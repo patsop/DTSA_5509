{
 "cells": [
  {
   "cell_type": "markdown",
   "id": "8a8b62f6",
   "metadata": {},
   "source": [
    "# Speaker Accent Recognition\n",
    "## DTSA 5509 Introduction to Machine Learning: Supervised Learning - Final Project\n",
    "Jupyter Notebook available via GitHub: https://github.com/patsop/DTSA_5509"
   ]
  },
  {
   "cell_type": "markdown",
   "id": "eb3db2c0",
   "metadata": {},
   "source": [
    "## Problem Description"
   ]
  },
  {
   "cell_type": "markdown",
   "id": "c692e2b4",
   "metadata": {},
   "source": [
    "The problem at hand consists of detecting the accent of speakers from different countries. We want to evaluate it in a binary sense and differentiate between speakers from the US and from outside the US. We are simplifying the problem in this way to accomodate the relatively low number of samples, which is only 330 in total. Furthermore, by using the dataset in this way we get a perfectly balanced sample. The paper of *Ma et. al 2014*, cited on the UCI Machine Learning Repository, from which the data was obtained, is also using the data in this way.\n",
    "\n",
    "Moreover, we will use features in the form of mel-frequency clepstral coefficients (MFCC) created from the audio signals of single words spoken in the respective language. In this way we get twelve features per sample, together with the respective label, representing the target language.\n",
    "\n",
    "The data also contains ten of the original 330 audio signals in a .wav format. We will use these signals to try and implement our own audio signal to MFCC converter. At the end of the paper we will facilitate these manually created MFCCs with their known target value and test our final model against them. Obviously this is not a perfect test for the model as we do not know, how the original MFCCs given were created and can therefore not tell whether our approach is different, but the test should tell us something about the robustness of our model with respect to varying input features. Furthermore, we can test our own implementation of the MFCC converter in this way."
   ]
  },
  {
   "cell_type": "markdown",
   "id": "068d90af",
   "metadata": {},
   "source": [
    "## Exploratory Data Analysis (EDA)"
   ]
  },
  {
   "cell_type": "code",
   "execution_count": 26,
   "id": "f5d3a9f5",
   "metadata": {},
   "outputs": [],
   "source": [
    "# Used packages\n",
    "\n",
    "import pandas as pd\n",
    "import numpy as np\n",
    "from sklearn.model_selection import train_test_split\n",
    "import matplotlib.pyplot as plt\n",
    "from scipy.io import wavfile\n",
    "from scipy.signal import stft\n",
    "from scipy.fftpack import dct\n",
    "from sklearn.ensemble import RandomForestClassifier\n",
    "from sklearn.model_selection import GridSearchCV\n",
    "from sklearn.model_selection import cross_validate\n",
    "from sklearn.svm import SVC\n",
    "from sklearn.neighbors import KNeighborsClassifier as KNN\n",
    "from sklearn.linear_model import LogisticRegression\n",
    "from sklearn.metrics import accuracy_score\n",
    "from sklearn.metrics import confusion_matrix"
   ]
  },
  {
   "cell_type": "markdown",
   "id": "e3c5447d",
   "metadata": {},
   "source": [
    "First we perform a train-test-split right at the beginning of the EDA procedure, as we do not want to acquire any insights from the test data."
   ]
  },
  {
   "cell_type": "code",
   "execution_count": 27,
   "id": "f2082d69",
   "metadata": {},
   "outputs": [],
   "source": [
    "df = pd.read_csv('./Data/accent-mfcc-data-1.csv')\n",
    "X_train, X_test, y_train, y_test = train_test_split(df.iloc[:,1:],df.iloc[:,0],train_size=0.8, random_state=42)"
   ]
  },
  {
   "cell_type": "markdown",
   "id": "7ac275a6",
   "metadata": {},
   "source": [
    "We will print the first rows of our training data to give a first impression of the data. As we can see, we have twelve features in the form of MFC-coefficients. Furthermore, we print the unique values of the target vector, which gives us 6 different languages. We will reduce them as mentioned before to the binary case of non-US (0) and US (1)."
   ]
  },
  {
   "cell_type": "code",
   "execution_count": 28,
   "id": "5499a811",
   "metadata": {},
   "outputs": [
    {
     "name": "stdout",
     "output_type": "stream",
     "text": [
      "            X1        X2        X3         X4        X5         X6         X7  \\\n",
      "75    7.266305 -2.226078  1.169851   4.777130 -9.526386  10.532668 -10.750208   \n",
      "184   3.362900 -5.279764  7.357451   8.326915 -6.115168  10.327969 -10.434079   \n",
      "17   11.263467 -6.017982 -0.726262  11.959800 -5.667235  12.318475  -7.892121   \n",
      "24   13.673290 -9.329461 -0.008073   6.951391 -9.590551  12.869720  -9.072661   \n",
      "180   5.178245 -5.049401  5.980721  10.562531 -8.000220  10.340584 -11.530766   \n",
      "\n",
      "           X8        X9       X10       X11       X12  \n",
      "75   5.093525  0.416796 -3.714795  5.202507 -2.365555  \n",
      "184  6.536561 -0.412717 -4.929815  3.849205 -4.384082  \n",
      "17   4.131175 -0.672802 -9.215645  4.770874 -0.822530  \n",
      "24   3.620028 -1.772338 -9.868867  6.307046 -0.387155  \n",
      "180  5.072530  2.297954 -2.365443  4.622242 -5.539080  \n",
      "75     GE\n",
      "184    US\n",
      "17     ES\n",
      "24     ES\n",
      "180    US\n",
      "Name: language, dtype: object\n",
      "['GE' 'US' 'ES' 'IT' 'UK' 'FR']\n"
     ]
    },
    {
     "data": {
      "text/plain": [
       "75     0\n",
       "184    1\n",
       "17     0\n",
       "24     0\n",
       "180    1\n",
       "Name: language, dtype: int64"
      ]
     },
     "execution_count": 28,
     "metadata": {},
     "output_type": "execute_result"
    }
   ],
   "source": [
    "print(X_train.head())\n",
    "print(y_train.head())\n",
    "print(y_train.unique())\n",
    "y_train = y_train.replace(to_replace=[\"UK\",\"FR\",\"IT\",'GE','ES'],value=0)\n",
    "y_train = y_train.replace(to_replace=\"US\",value=1)\n",
    "y_test = y_test.replace(to_replace=[\"UK\",\"FR\",\"IT\",'GE','ES'],value=0)\n",
    "y_test = y_test.replace(to_replace=\"US\",value=1)\n",
    "y_train.head()"
   ]
  },
  {
   "cell_type": "markdown",
   "id": "c4f1686c",
   "metadata": {},
   "source": [
    "As the data already contains the MFC-coefficients, we can first do a simple EDA procedure on these values to get a sense about their distribution."
   ]
  },
  {
   "cell_type": "code",
   "execution_count": 29,
   "id": "f1afe335",
   "metadata": {},
   "outputs": [
    {
     "name": "stdout",
     "output_type": "stream",
     "text": [
      "<class 'pandas.core.frame.DataFrame'>\n",
      "Int64Index: 263 entries, 75 to 102\n",
      "Data columns (total 12 columns):\n",
      " #   Column  Non-Null Count  Dtype  \n",
      "---  ------  --------------  -----  \n",
      " 0   X1      263 non-null    float64\n",
      " 1   X2      263 non-null    float64\n",
      " 2   X3      263 non-null    float64\n",
      " 3   X4      263 non-null    float64\n",
      " 4   X5      263 non-null    float64\n",
      " 5   X6      263 non-null    float64\n",
      " 6   X7      263 non-null    float64\n",
      " 7   X8      263 non-null    float64\n",
      " 8   X9      263 non-null    float64\n",
      " 9   X10     263 non-null    float64\n",
      " 10  X11     263 non-null    float64\n",
      " 11  X12     263 non-null    float64\n",
      "dtypes: float64(12)\n",
      "memory usage: 26.7 KB\n"
     ]
    }
   ],
   "source": [
    "X_train.info()"
   ]
  },
  {
   "cell_type": "markdown",
   "id": "424e42f1",
   "metadata": {},
   "source": [
    "We can see, that we do not have any null or invalid values in our dataset, so data cleaning is not necessary."
   ]
  },
  {
   "cell_type": "code",
   "execution_count": 30,
   "id": "ad23840e",
   "metadata": {},
   "outputs": [
    {
     "data": {
      "text/html": [
       "<div>\n",
       "<style scoped>\n",
       "    .dataframe tbody tr th:only-of-type {\n",
       "        vertical-align: middle;\n",
       "    }\n",
       "\n",
       "    .dataframe tbody tr th {\n",
       "        vertical-align: top;\n",
       "    }\n",
       "\n",
       "    .dataframe thead th {\n",
       "        text-align: right;\n",
       "    }\n",
       "</style>\n",
       "<table border=\"1\" class=\"dataframe\">\n",
       "  <thead>\n",
       "    <tr style=\"text-align: right;\">\n",
       "      <th></th>\n",
       "      <th>X1</th>\n",
       "      <th>X2</th>\n",
       "      <th>X3</th>\n",
       "      <th>X4</th>\n",
       "      <th>X5</th>\n",
       "      <th>X6</th>\n",
       "      <th>X7</th>\n",
       "      <th>X8</th>\n",
       "      <th>X9</th>\n",
       "      <th>X10</th>\n",
       "      <th>X11</th>\n",
       "      <th>X12</th>\n",
       "    </tr>\n",
       "  </thead>\n",
       "  <tbody>\n",
       "    <tr>\n",
       "      <th>count</th>\n",
       "      <td>263.000000</td>\n",
       "      <td>263.000000</td>\n",
       "      <td>263.000000</td>\n",
       "      <td>263.000000</td>\n",
       "      <td>263.000000</td>\n",
       "      <td>263.000000</td>\n",
       "      <td>263.000000</td>\n",
       "      <td>263.000000</td>\n",
       "      <td>263.000000</td>\n",
       "      <td>263.000000</td>\n",
       "      <td>263.000000</td>\n",
       "      <td>263.000000</td>\n",
       "    </tr>\n",
       "    <tr>\n",
       "      <th>mean</th>\n",
       "      <td>5.687580</td>\n",
       "      <td>-4.311618</td>\n",
       "      <td>2.646191</td>\n",
       "      <td>7.257310</td>\n",
       "      <td>-5.479592</td>\n",
       "      <td>9.763946</td>\n",
       "      <td>-9.367103</td>\n",
       "      <td>5.167295</td>\n",
       "      <td>-1.363234</td>\n",
       "      <td>-2.401892</td>\n",
       "      <td>2.406548</td>\n",
       "      <td>-3.975738</td>\n",
       "    </tr>\n",
       "    <tr>\n",
       "      <th>std</th>\n",
       "      <td>5.218171</td>\n",
       "      <td>3.543259</td>\n",
       "      <td>3.590465</td>\n",
       "      <td>4.426175</td>\n",
       "      <td>4.698028</td>\n",
       "      <td>3.699022</td>\n",
       "      <td>2.472886</td>\n",
       "      <td>2.649083</td>\n",
       "      <td>3.626670</td>\n",
       "      <td>5.210242</td>\n",
       "      <td>3.644491</td>\n",
       "      <td>3.083617</td>\n",
       "    </tr>\n",
       "    <tr>\n",
       "      <th>min</th>\n",
       "      <td>-6.067831</td>\n",
       "      <td>-14.972962</td>\n",
       "      <td>-6.186583</td>\n",
       "      <td>-8.844231</td>\n",
       "      <td>-15.656596</td>\n",
       "      <td>-3.162139</td>\n",
       "      <td>-15.365665</td>\n",
       "      <td>-2.873862</td>\n",
       "      <td>-15.510974</td>\n",
       "      <td>-11.429178</td>\n",
       "      <td>-13.664104</td>\n",
       "      <td>-13.724103</td>\n",
       "    </tr>\n",
       "    <tr>\n",
       "      <th>25%</th>\n",
       "      <td>2.260022</td>\n",
       "      <td>-6.564809</td>\n",
       "      <td>0.280945</td>\n",
       "      <td>4.590936</td>\n",
       "      <td>-8.328841</td>\n",
       "      <td>8.633162</td>\n",
       "      <td>-11.005685</td>\n",
       "      <td>3.494708</td>\n",
       "      <td>-1.903869</td>\n",
       "      <td>-5.258931</td>\n",
       "      <td>1.177595</td>\n",
       "      <td>-5.974931</td>\n",
       "    </tr>\n",
       "    <tr>\n",
       "      <th>50%</th>\n",
       "      <td>4.954206</td>\n",
       "      <td>-4.235071</td>\n",
       "      <td>2.029268</td>\n",
       "      <td>8.153576</td>\n",
       "      <td>-6.726032</td>\n",
       "      <td>10.379330</td>\n",
       "      <td>-9.754247</td>\n",
       "      <td>4.879738</td>\n",
       "      <td>-0.474565</td>\n",
       "      <td>-3.362391</td>\n",
       "      <td>3.214643</td>\n",
       "      <td>-4.384082</td>\n",
       "    </tr>\n",
       "    <tr>\n",
       "      <th>75%</th>\n",
       "      <td>9.952738</td>\n",
       "      <td>-1.559928</td>\n",
       "      <td>4.041550</td>\n",
       "      <td>10.459271</td>\n",
       "      <td>-4.222891</td>\n",
       "      <td>11.711488</td>\n",
       "      <td>-7.805470</td>\n",
       "      <td>6.753381</td>\n",
       "      <td>0.613719</td>\n",
       "      <td>-1.661361</td>\n",
       "      <td>4.659480</td>\n",
       "      <td>-2.151659</td>\n",
       "    </tr>\n",
       "    <tr>\n",
       "      <th>max</th>\n",
       "      <td>17.749851</td>\n",
       "      <td>3.570765</td>\n",
       "      <td>17.066487</td>\n",
       "      <td>16.178942</td>\n",
       "      <td>7.912809</td>\n",
       "      <td>21.445837</td>\n",
       "      <td>-0.424033</td>\n",
       "      <td>13.846083</td>\n",
       "      <td>4.789989</td>\n",
       "      <td>16.326455</td>\n",
       "      <td>9.166066</td>\n",
       "      <td>5.259430</td>\n",
       "    </tr>\n",
       "  </tbody>\n",
       "</table>\n",
       "</div>"
      ],
      "text/plain": [
       "               X1          X2          X3          X4          X5          X6  \\\n",
       "count  263.000000  263.000000  263.000000  263.000000  263.000000  263.000000   \n",
       "mean     5.687580   -4.311618    2.646191    7.257310   -5.479592    9.763946   \n",
       "std      5.218171    3.543259    3.590465    4.426175    4.698028    3.699022   \n",
       "min     -6.067831  -14.972962   -6.186583   -8.844231  -15.656596   -3.162139   \n",
       "25%      2.260022   -6.564809    0.280945    4.590936   -8.328841    8.633162   \n",
       "50%      4.954206   -4.235071    2.029268    8.153576   -6.726032   10.379330   \n",
       "75%      9.952738   -1.559928    4.041550   10.459271   -4.222891   11.711488   \n",
       "max     17.749851    3.570765   17.066487   16.178942    7.912809   21.445837   \n",
       "\n",
       "               X7          X8          X9         X10         X11         X12  \n",
       "count  263.000000  263.000000  263.000000  263.000000  263.000000  263.000000  \n",
       "mean    -9.367103    5.167295   -1.363234   -2.401892    2.406548   -3.975738  \n",
       "std      2.472886    2.649083    3.626670    5.210242    3.644491    3.083617  \n",
       "min    -15.365665   -2.873862  -15.510974  -11.429178  -13.664104  -13.724103  \n",
       "25%    -11.005685    3.494708   -1.903869   -5.258931    1.177595   -5.974931  \n",
       "50%     -9.754247    4.879738   -0.474565   -3.362391    3.214643   -4.384082  \n",
       "75%     -7.805470    6.753381    0.613719   -1.661361    4.659480   -2.151659  \n",
       "max     -0.424033   13.846083    4.789989   16.326455    9.166066    5.259430  "
      ]
     },
     "execution_count": 30,
     "metadata": {},
     "output_type": "execute_result"
    }
   ],
   "source": [
    "X_train.describe()"
   ]
  },
  {
   "cell_type": "markdown",
   "id": "c1dcf1e6",
   "metadata": {},
   "source": [
    "All instances of all features range between a minimum of about -15 and a maximum of about 22 with varying means and distributions. Because of that we will plot a histogram of all features with binwidth=1  ranging from -15 to 22."
   ]
  },
  {
   "cell_type": "code",
   "execution_count": 31,
   "id": "573488a1",
   "metadata": {},
   "outputs": [
    {
     "data": {
      "text/plain": [
       "array([<AxesSubplot:title={'center':'X1'}>,\n",
       "       <AxesSubplot:title={'center':'X2'}>,\n",
       "       <AxesSubplot:title={'center':'X3'}>,\n",
       "       <AxesSubplot:title={'center':'X4'}>,\n",
       "       <AxesSubplot:title={'center':'X5'}>,\n",
       "       <AxesSubplot:title={'center':'X6'}>,\n",
       "       <AxesSubplot:title={'center':'X7'}>,\n",
       "       <AxesSubplot:title={'center':'X8'}>,\n",
       "       <AxesSubplot:title={'center':'X9'}>,\n",
       "       <AxesSubplot:title={'center':'X10'}>,\n",
       "       <AxesSubplot:title={'center':'X11'}>,\n",
       "       <AxesSubplot:title={'center':'X12'}>], dtype=object)"
      ]
     },
     "execution_count": 31,
     "metadata": {},
     "output_type": "execute_result"
    },
    {
     "data": {
      "image/png": "[encoded data removed]",
      "text/plain": [
       "<Figure size 1152x576 with 12 Axes>"
      ]
     },
     "metadata": {
      "needs_background": "light"
     },
     "output_type": "display_data"
    }
   ],
   "source": [
    "#define format for subplots (1 row and 3 columns)\n",
    "fig, axis = plt.subplots(3,4,figsize=(16,8))\n",
    "\n",
    "#create histogram for each column in DataFrame\n",
    "df.hist(ax=axis,bins=list(range(-15,22,1)))"
   ]
  },
  {
   "cell_type": "markdown",
   "id": "c4415d7c",
   "metadata": {},
   "source": [
    "We see that the different features also have quiet different distributions. All distributions have some similiarity to a normal distribution. However, some have a second smaller peak besides the main peak. Furthermore, the distributions of the feature values strongly vary with repsect to their spread around both their respective mean value and nearest peak."
   ]
  },
  {
   "cell_type": "markdown",
   "id": "3ae8be4d",
   "metadata": {},
   "source": [
    "As we want to understand more about the nature of the MFC-coefficients we will use a .wav signals that was part of  the dataset to build our own MFCC converter. In this way we might find ways to modify the conversion with the aim of improving the later model performance. This could be potentially useful for a future work that is not based on the given MFC-coefficients. "
   ]
  },
  {
   "cell_type": "markdown",
   "id": "7e15cb19",
   "metadata": {},
   "source": [
    "### MFCC Feature Extraction form .wav Signals"
   ]
  },
  {
   "cell_type": "markdown",
   "id": "740131e7",
   "metadata": {},
   "source": [
    "We will try to realize the conversion with the .wav file, which is loaded in the following cell."
   ]
  },
  {
   "cell_type": "code",
   "execution_count": 32,
   "id": "0f57de60",
   "metadata": {},
   "outputs": [],
   "source": [
    "samplerate, data = wavfile.read('./Data/ES-M-1-1.wav')"
   ]
  },
  {
   "cell_type": "markdown",
   "id": "e4d7aeb6",
   "metadata": {},
   "source": [
    "According to the sampling rate of 44.1 kHz and the number of values in the file. We have a sound signal of about 717 ms."
   ]
  },
  {
   "cell_type": "code",
   "execution_count": 33,
   "id": "6200f1ff",
   "metadata": {
    "scrolled": true
   },
   "outputs": [
    {
     "data": {
      "text/plain": [
       "0.7169160997732427"
      ]
     },
     "execution_count": 33,
     "metadata": {},
     "output_type": "execute_result"
    }
   ],
   "source": [
    "len(data)/samplerate"
   ]
  },
  {
   "cell_type": "code",
   "execution_count": 34,
   "id": "3221f7df",
   "metadata": {},
   "outputs": [
    {
     "data": {
      "image/png": "[encoded data removed]",
      "text/plain": [
       "<Figure size 432x288 with 1 Axes>"
      ]
     },
     "metadata": {
      "needs_background": "light"
     },
     "output_type": "display_data"
    }
   ],
   "source": [
    "timeseries = []\n",
    "_ = 0\n",
    "for i in range(len(data)):\n",
    "    timeseries.append(_)\n",
    "    _+=1/samplerate\n",
    "plt.plot(timeseries,data)\n",
    "plt.xlabel(\"time[s]\")\n",
    "plt.ylabel(\"amplitude[-]\")\n",
    "plt.ylim(-15000,15000)\n",
    "plt.show()"
   ]
  },
  {
   "cell_type": "markdown",
   "id": "661de0df",
   "metadata": {},
   "source": [
    "According to Ma et al. 2014 it is a useful first step to use a pre-emphasis filter on the raw signal (high-pass 1st order). This filter will increase the high frequencies of the signal and respectively realtively reduce the low frequencies. We will choose a filter parameter of 0.95 to get similar results to the cited paper."
   ]
  },
  {
   "cell_type": "code",
   "execution_count": 35,
   "id": "c2ebcf26",
   "metadata": {},
   "outputs": [],
   "source": [
    "data2 = []\n",
    "for i in range(len(data)):\n",
    "    if i:\n",
    "        data2.append(data[i] - 0.95*data[i-1])\n",
    "    else:\n",
    "        data2.append(data[i])"
   ]
  },
  {
   "cell_type": "code",
   "execution_count": 36,
   "id": "9ec01876",
   "metadata": {},
   "outputs": [
    {
     "data": {
      "image/png": "[encoded data removed]",
      "text/plain": [
       "<Figure size 432x288 with 1 Axes>"
      ]
     },
     "metadata": {
      "needs_background": "light"
     },
     "output_type": "display_data"
    }
   ],
   "source": [
    "plt.plot(timeseries,data2)\n",
    "plt.xlabel(\"time[s]\")\n",
    "plt.ylabel(\"amplitude[-]\")\n",
    "plt.ylim(-15000,15000)\n",
    "plt.show()"
   ]
  },
  {
   "cell_type": "markdown",
   "id": "4ef98a80",
   "metadata": {},
   "source": [
    "In the above plots we can see the stark difference between the amplitudes before and after filtering the signal. We will continue with the filtered data."
   ]
  },
  {
   "cell_type": "markdown",
   "id": "ee9fd4f4",
   "metadata": {},
   "source": [
    "The next step to complete is the transformation of the signal into the frequency domain. One reason for that is that a time-series signal would have way to much features, around 30000 in our case. We will transform the signal using scipys short term fourier transform (STFT) function. The advantage of the short term fourier transformation is, that it can be used to convert a non-stationary signal into the frequency domain. As we do have such a signal, we will follow this path. The result are multiple single windows of the original signal, that are transformed with the fourier transformation. Following the techniques from Ma et al. 2014 we will use a Hamming window function.\n",
    "\n",
    "According to Kuldip et al. 2010 a window length between 15 ms and 35 ms constitues an optimum for speech recognition. For simplicity I will use the middle value of this range, which is 25 ms. As we have a sampling frequency of 44.1 kHz, 25 ms is equivalent to a window length of 1102 datapoints. Furthermore, we will use \"odd\" padding. This describes the way we handle the start and the end of the dataset. Because our window is 1102 datapoints long for the first 651 points the window will include values for time points smaller than zero, were we do not have a recorded signal. \"Odd\" means that the original signal will be mirrored around the point at zero, which creates a signal mirrored around the time and amplitude axis in the negative time domain. For me this sounds sensible, as I do not want to use \"zero\" padding, because no speech will contain prolonged silence. Furthermore \"even\" padding creates a hard border and an unsteady signal that might falsify the frequency conversion.\n",
    "\n",
    "The overlap of the single windows was choosen according the remarks of Jameslyons 2013 to be 15 ms or 661 sample points."
   ]
  },
  {
   "cell_type": "code",
   "execution_count": 37,
   "id": "bf59f273",
   "metadata": {},
   "outputs": [],
   "source": [
    "freq,segtimes,Zxx = stft(data2, samplerate, window='hamming', nperseg=1102, noverlap=661 ,boundary='odd')"
   ]
  },
  {
   "cell_type": "code",
   "execution_count": 38,
   "id": "b0a4f908",
   "metadata": {},
   "outputs": [
    {
     "name": "stdout",
     "output_type": "stream",
     "text": [
      "(552, 73)\n"
     ]
    },
    {
     "data": {
      "text/plain": [
       "array([[-1.00023795e+01+0.j        , -4.40294233e-01+0.j        ,\n",
       "         5.04358415e-02+0.j        , ...,  7.89206477e-02+0.j        ,\n",
       "        -2.22985336e-01+0.j        ,  3.05486407e-02+0.j        ],\n",
       "       [ 4.25687975e+00+6.06621174j, -3.48335306e-01+0.45243982j,\n",
       "         3.08609725e-02-0.21365295j, ..., -3.50429292e-01-0.10720512j,\n",
       "         1.82279381e-01+0.12140324j,  2.55526871e-03+0.09314034j],\n",
       "       [-2.37951200e-03-3.48318545j, -3.30672465e-01-0.01979306j,\n",
       "        -1.13951587e-01+0.16279159j, ...,  5.17136501e-01+0.50210736j,\n",
       "        -1.20778903e-01-0.08819539j, -2.14966442e-01-0.12230454j],\n",
       "       ...,\n",
       "       [-2.37951200e-03-0.4100519j , -1.55721012e-01-0.33444354j,\n",
       "         1.30604654e-02+0.1410845j , ..., -1.33646486e-01-0.15105574j,\n",
       "         1.37389948e-01-0.15735941j, -2.92048812e-01+0.10711498j],\n",
       "       [-2.37951200e-03+0.61972367j, -1.17440608e-01+0.34823565j,\n",
       "        -8.53955817e-02-0.12108917j, ...,  2.65102794e-01+0.21934062j,\n",
       "        -1.63676228e-01+0.25729373j, -1.03779112e-02-0.13401142j],\n",
       "       [-2.37951200e-03+0.j        ,  3.20306188e-01+0.j        ,\n",
       "         2.08875737e-01+0.j        , ..., -4.42305094e-01+0.j        ,\n",
       "         3.63284507e-01+0.j        ,  1.13045427e-01+0.j        ]])"
      ]
     },
     "execution_count": 38,
     "metadata": {},
     "output_type": "execute_result"
    }
   ],
   "source": [
    "print(Zxx.shape)\n",
    "Zxx"
   ]
  },
  {
   "cell_type": "markdown",
   "id": "f1ba4ea1",
   "metadata": {},
   "source": [
    "The result of our STFT are the 552 fourier coefficients each for the 73 windows of our signal. We will only keep the first 200 coefficients at the end of the process but calculate the periodogram-based power spectral estimate, which is given by $P=1/N*|S|^2$, for all coefficients first. Were S is the fourier transform of the orginal signal in the current frame and N is the number of datapoints in each frame."
   ]
  },
  {
   "cell_type": "code",
   "execution_count": 39,
   "id": "d9661adb",
   "metadata": {},
   "outputs": [
    {
     "data": {
      "text/plain": [
       "(552, 73)"
      ]
     },
     "execution_count": 39,
     "metadata": {},
     "output_type": "execute_result"
    }
   ],
   "source": [
    "pb_power_spec_est = []\n",
    "pb_power_spec_est = 1/1102*abs(Zxx**2)\n",
    "pb_power_spec_est.shape"
   ]
  },
  {
   "cell_type": "markdown",
   "id": "aa23da56",
   "metadata": {},
   "source": [
    "As a result we get the periodogram-based power spectral estimate for the coefficients of the STFT of all 73 windows. In our nparray the windows are shown as columns. Next we have to compute the mel-filterbanks, that will be used to calculate the energy of the spectrum for different banks. For higher frequencies the bands get wider, as small differences become less important (Jameslyons 2013). We will start the first bank at 300 Hz and end with 8 kHz, using 26 filter banks, in accordance to the advice in Jameslyons 2013 and calculate the mel-filterbanks in the following. The borders between the banks are only linearly spread with resepect to the Mel-frequency measure in Hertz frequencies the spread is non-linear. This can be infered from the below conversion formula between the two measures."
   ]
  },
  {
   "cell_type": "code",
   "execution_count": 40,
   "id": "36fde1a1",
   "metadata": {},
   "outputs": [
    {
     "name": "stdout",
     "output_type": "stream",
     "text": [
      "[ 300.          383.42040146  473.7997663   571.71861405  677.80589138\n",
      "  792.74301197  917.26823331 1052.18139861 1198.34907431 1356.71011621\n",
      " 1528.28169979 1714.16585376 1915.55653848 2133.74731496 2370.13965362\n",
      " 2626.25193607 2903.72920794 3204.35374523 3530.0565021  3882.92951372\n",
      " 4265.23933362 4679.44159219 5128.19676945 5614.38728376 6141.13600596\n",
      " 6711.82631804 7330.12384505 8000.        ]\n",
      "[280.1270417422867, 360.1633393829401, 440.19963702359337, 560.2540834845734, 640.2903811252268, 760.3448275862067, 880.3992740471867, 1040.4718693284935, 1160.5263157894735, 1320.59891107078, 1520.6896551724135, 1680.7622504537203, 1880.8529945553537, 2120.9618874773137, 2361.0707803992736, 2601.1796733212336, 2881.3067150635206, 3201.451905626134, 3521.597096188747, 3881.760435571687, 4241.923774954627, 4682.12341197822, 5122.323049001814, 5602.540834845734, 6122.776769509981, 6683.030852994554, 7323.321234119781, 8003.629764065335]\n"
     ]
    }
   ],
   "source": [
    "def f_to_mel(f):\n",
    "    return(1125*np.log(1+f/700))\n",
    "def mel_to_f(mel):\n",
    "    return(700*(np.exp(mel/1125)-1))\n",
    "# We first calculate the edges of the banks in mel-frequencies\n",
    "m0 = f_to_mel(300)\n",
    "mend = f_to_mel(8000)\n",
    "mels = np.linspace(m0,mend,28) # 28 as we will use a triangular filter for creating the filtered signals in the banks using the point at +1\n",
    "# Then we transform them back to the \"normal\" frequencies to get the edges of the banks in Hertz\n",
    "mels = mel_to_f(mels)\n",
    "print(mels)\n",
    "# In our STFTs the nearest frequencies fitting to the bank edges will be calculated in the following.\n",
    "stft_i = np.floor((1102+1)*mels/samplerate)\n",
    "#print(stft_i)\n",
    "print([freq[int(i)] for i in stft_i])"
   ]
  },
  {
   "cell_type": "markdown",
   "id": "b1f4d229",
   "metadata": {},
   "source": [
    "In contrast to Jameslyons 2013 we will only use the first 200 coefficients of our STFT, as our audio signal was recorded with 44.1 kHz instead of 16 kHz and the STFTs consist of more points each. Lets plot our 26 mel-filterbanks."
   ]
  },
  {
   "cell_type": "code",
   "execution_count": 41,
   "id": "5e163d92",
   "metadata": {},
   "outputs": [
    {
     "name": "stdout",
     "output_type": "stream",
     "text": [
      "(26, 201)\n"
     ]
    },
    {
     "data": {
      "image/png": "[encoded data removed]",
      "text/plain": [
       "<Figure size 432x288 with 1 Axes>"
      ]
     },
     "metadata": {
      "needs_background": "light"
     },
     "output_type": "display_data"
    }
   ],
   "source": [
    "def triangular_filter(k,m,stft_i):\n",
    "    if k<stft_i[m-1]:\n",
    "        return(0)\n",
    "    elif stft_i[m-1]<=k<=stft_i[m]:\n",
    "        return((k-stft_i[m-1])/(stft_i[m]-stft_i[m-1]))\n",
    "    elif stft_i[m]<=k<=stft_i[m+1]:\n",
    "        return((stft_i[m+1]-k)/(stft_i[m+1]-stft_i[m]))\n",
    "    elif k>stft_i[m+1]:\n",
    "        return(0)\n",
    "\n",
    "\n",
    "def get_filter_functions(stft_i):\n",
    "    filters = []\n",
    "    for m in range(1,27):\n",
    "        filters.append([triangular_filter(k,m,stft_i) for k in range(int(stft_i[-1]+1))])\n",
    "    return(np.array(filters))\n",
    "\n",
    "filters = get_filter_functions(stft_i)\n",
    "print(filters.shape)\n",
    "for line in range(filters.shape[0]):\n",
    "    plt.plot([freq[i] for i in range(int(stft_i[-1]+1))],filters[line,:])\n",
    "    plt.xlabel('frequencies[Hz]')\n",
    "    plt.ylabel('scaling-factor[-]')"
   ]
  },
  {
   "cell_type": "markdown",
   "id": "58212b2c",
   "metadata": {},
   "source": [
    "Now we can utilize the scaling factors from the filter to individually weigh the STFT coefficients power spectrum estimate for each bank. This results in 26 values per window describing the energy of the signal in different frequency ranges. Later the log of these energies will be taken, which is the standard approach and after doing a final discrete cosine transform we just have to keep the first 12 coefficients, as this fits the approach taken in the creation of our available data."
   ]
  },
  {
   "cell_type": "code",
   "execution_count": 42,
   "id": "afe2fd62",
   "metadata": {},
   "outputs": [
    {
     "data": {
      "text/plain": [
       "(73, 26)"
      ]
     },
     "execution_count": 42,
     "metadata": {},
     "output_type": "execute_result"
    }
   ],
   "source": [
    "m_f_cep_coeff = np.log(filters@pb_power_spec_est[:201,:]).T\n",
    "m_f_cep_coeff.shape"
   ]
  },
  {
   "cell_type": "code",
   "execution_count": 43,
   "id": "8fa25560",
   "metadata": {},
   "outputs": [
    {
     "name": "stdout",
     "output_type": "stream",
     "text": [
      "(73, 26)\n",
      "(73, 12)\n"
     ]
    }
   ],
   "source": [
    "m_f_cep_coeff = dct(m_f_cep_coeff,axis=1)\n",
    "print(m_f_cep_coeff.shape)\n",
    "m_f_cep_coeff = m_f_cep_coeff[:,:12]\n",
    "print(m_f_cep_coeff.shape)"
   ]
  },
  {
   "cell_type": "markdown",
   "id": "6321b41c",
   "metadata": {},
   "source": [
    "Ma et al. 2014 suppose to just take the mean of the MFCCs for each window as a model input, which we will replicate for sake of simplicity. This gives us the following twelve coefficients for our original audio signal."
   ]
  },
  {
   "cell_type": "code",
   "execution_count": 44,
   "id": "07028c49",
   "metadata": {
    "scrolled": true
   },
   "outputs": [
    {
     "data": {
      "text/plain": [
       "array([-2.23250429e+02,  4.97136009e-01, -1.74078068e+01,  1.42012496e+01,\n",
       "        1.29681167e+01,  1.22081151e+01, -2.09078674e-01,  9.69206527e+00,\n",
       "       -1.15339383e+01,  2.81836641e+00, -3.83083552e+00,  2.98118463e+00])"
      ]
     },
     "execution_count": 44,
     "metadata": {},
     "output_type": "execute_result"
    }
   ],
   "source": [
    "m_f_cep_coeff_mean = np.mean(m_f_cep_coeff,axis=0)\n",
    "m_f_cep_coeff_mean"
   ]
  },
  {
   "cell_type": "markdown",
   "id": "4fd9aaeb",
   "metadata": {},
   "source": [
    "We can see that our data seems to be on a different scale regarding the coeffcients as the original data. This is of small wonder, as a lot of assumptions and mulitple possible paths for the MFCC creation process lead to our final solution. Nevertheless, this was a valuable EDA procedure for me, as I got to understand the data a lot better and can now clearly describe, what the coeffcients mean and which later operations in the model building on them are reasonable. Despite the fact, that the scales seem to differ I will just try to plug in the values in the end of this work into my final model and see what happens. Maybe the first impression of differing scales is deceptive."
   ]
  },
  {
   "cell_type": "markdown",
   "id": "a51197cb",
   "metadata": {},
   "source": [
    "## Model Building and Training with Parameter Optimization"
   ]
  },
  {
   "cell_type": "markdown",
   "id": "1402a2f2",
   "metadata": {},
   "source": [
    "We will test the performance of three different types of machine learning models on the original dataset. In detail this will be a random forest classifier, a support vector classifier and a k-nearest neighbors classifier."
   ]
  },
  {
   "cell_type": "markdown",
   "id": "a0ed4889",
   "metadata": {},
   "source": [
    "### Random Forest Classifier"
   ]
  },
  {
   "cell_type": "markdown",
   "id": "1a9c34fd",
   "metadata": {},
   "source": [
    "The random forest classifier combines multiple decision trees into one predictive model. The criterion for the single splits in the individual decision trees is either the gini coefficient or entropy based. Furthermore the decisions trees have a max depth between 3 and 7 in our grid search for the optimal model parameters. Decision trees get their predicitve power by two major machanisms. First of all it uses bootstrapping to learn the single decision trees on different subsets of the original training data. Furthermore, a random forest is called random as the selection of the features that may be used for the single splits inside the trees is a random subset of all features. In our case every split uses the square-root of the amount of total features available. Combined with the 5-fold cross validation procedure that uses differing subsets of all the train data to learn and test the model, we hope to acquire the optimal solution for this classifier."
   ]
  },
  {
   "cell_type": "code",
   "execution_count": 45,
   "id": "83bdf670",
   "metadata": {},
   "outputs": [
    {
     "data": {
      "text/plain": [
       "GridSearchCV(cv=5, estimator=RandomForestClassifier(n_jobs=-1, random_state=42),\n",
       "             n_jobs=-1,\n",
       "             param_grid={'criterion': ['gini', 'entropy'],\n",
       "                         'max_depth': [3, 4, 5, 6, 7, 8, 10],\n",
       "                         'n_estimators': [10, 100, 150, 175, 1000]},\n",
       "             return_train_score=True, scoring='accuracy')"
      ]
     },
     "execution_count": 45,
     "metadata": {},
     "output_type": "execute_result"
    }
   ],
   "source": [
    "rvc = RandomForestClassifier(n_jobs=-1,random_state=42)\n",
    "params = {\n",
    "    'n_estimators':[10,100,150,175,1000],\n",
    "    'criterion':['gini','entropy'],\n",
    "    'max_depth':[3,4,5,6,7,8,10]\n",
    "}\n",
    "rfc_grid = GridSearchCV(rvc, param_grid=params, scoring='accuracy', n_jobs=-1, cv=5,return_train_score=True)\n",
    "rfc_grid.fit(X_train,y_train)"
   ]
  },
  {
   "cell_type": "code",
   "execution_count": 46,
   "id": "03b2e46d",
   "metadata": {},
   "outputs": [
    {
     "name": "stdout",
     "output_type": "stream",
     "text": [
      "0.8288098693759072\n",
      "{'criterion': 'gini', 'max_depth': 8, 'n_estimators': 1000}\n"
     ]
    },
    {
     "data": {
      "text/plain": [
       "array([8, 9])"
      ]
     },
     "execution_count": 46,
     "metadata": {},
     "output_type": "execute_result"
    }
   ],
   "source": [
    "print(rfc_grid.best_score_)\n",
    "print(rfc_grid.best_params_)\n",
    "#print(rfc_grid.cv_results_['mean_train_score'])\n",
    "#print(rfc_grid.best_estimator_.feature_importances_)\n",
    "np.argsort(rfc_grid.best_estimator_.feature_importances_)[-2:]"
   ]
  },
  {
   "cell_type": "markdown",
   "id": "75d496fb",
   "metadata": {},
   "source": [
    "According to the impurity based feature importance of the random forest classifier the features X9 and X10 have the highest importance for descerning between US and non-us speakers.\n",
    "\n",
    "The best random forest classifier reaches a test validation score of 0.83 and uses the following parameters:\n",
    "- Split criterion: Gini\n",
    "- Maximum depth of the decision tree stumps: 8\n",
    "- Number of decision tree stumps: 1000\n",
    "\n",
    "In the following diagrams we can see how the cross-validated training and test scores evolved with differing input parmeters one by one. We will always choose the optimal parameter for all but one category and compare all checked possiblities for the remaining category."
   ]
  },
  {
   "cell_type": "code",
   "execution_count": 47,
   "id": "4ab46cf5",
   "metadata": {},
   "outputs": [],
   "source": [
    "def plot_opt_evolution(param_fix, param_vary, cv_results):\n",
    "    # list of parameters fixed with optimal value as tuple, parameter varied, cv_results\n",
    "    ids= []\n",
    "    x = []\n",
    "    for i in range(len(cv_results['params'])):\n",
    "        if param_fix:\n",
    "            if cv_results['params'][i][param_fix[0][0]] == param_fix[0][1] and cv_results['params'][i][param_fix[1][0]] == param_fix[1][1]:\n",
    "                ids.append(i)\n",
    "                x.append(cv_results['params'][i][param_vary])\n",
    "        else:\n",
    "            ids.append(i)\n",
    "            x.append(cv_results['params'][i][param_vary])            \n",
    "    train_score = [cv_results['mean_train_score'][i] for i in ids] \n",
    "    test_score = [cv_results['mean_test_score'][i] for i in ids]\n",
    "\n",
    "    \n",
    "    plt.plot(x,train_score,label='Train')\n",
    "    plt.plot(x,test_score,label='Test')\n",
    "    plt.legend()\n",
    "    plt.xlabel(param_vary)\n",
    "    plt.ylabel('accuracy')\n",
    "    plt.title('Optimization Evolution Parameter: '+param_vary)\n",
    "    plt.show()"
   ]
  },
  {
   "cell_type": "code",
   "execution_count": 48,
   "id": "849f201a",
   "metadata": {},
   "outputs": [
    {
     "data": {
      "image/png": "[encoded data removed]",
      "text/plain": [
       "<Figure size 432x288 with 1 Axes>"
      ]
     },
     "metadata": {
      "needs_background": "light"
     },
     "output_type": "display_data"
    }
   ],
   "source": [
    "plot_opt_evolution([('criterion','gini'),('n_estimators',1000)],'max_depth',rfc_grid.cv_results_)"
   ]
  },
  {
   "cell_type": "code",
   "execution_count": 49,
   "id": "1f86b52e",
   "metadata": {},
   "outputs": [
    {
     "data": {
      "image/png": "[encoded data removed]",
      "text/plain": [
       "<Figure size 432x288 with 1 Axes>"
      ]
     },
     "metadata": {
      "needs_background": "light"
     },
     "output_type": "display_data"
    }
   ],
   "source": [
    "plt.clf()\n",
    "plot_opt_evolution([('criterion','gini'),('max_depth',8)],'n_estimators',rfc_grid.cv_results_)"
   ]
  },
  {
   "cell_type": "markdown",
   "id": "93368b2e",
   "metadata": {},
   "source": [
    "We see that the model improves with increasing number of estimators, regarding the test data. The advantage is small but we will nevertheless choose the maximum tested number of 1000 estimators. We will not test or use higher numbers as this would strongly increase the computational complexity, which could be a problem for bigger training datasets. Furthermore, using too much estimators per sample does not feel right. Next we will compare the results of a support vector classifier with the ones acquired here with the random forest."
   ]
  },
  {
   "cell_type": "markdown",
   "id": "41d71000",
   "metadata": {},
   "source": [
    "### Support Vector Classifier (SVC)"
   ]
  },
  {
   "cell_type": "markdown",
   "id": "99ccb93f",
   "metadata": {},
   "source": [
    "The SVC uses multi-dimensional and possibly comlex decision boundaries to part the multi-dimensional feature space into two areas, which will in turn allow the model to differentitate between US and non-US speakers."
   ]
  },
  {
   "cell_type": "code",
   "execution_count": 50,
   "id": "5d3de575",
   "metadata": {},
   "outputs": [
    {
     "data": {
      "text/plain": [
       "GridSearchCV(cv=5, estimator=SVC(random_state=42), n_jobs=-1,\n",
       "             param_grid={'C': [0.01, 0.1, 1, 10, 25, 50, 100],\n",
       "                         'degree': [2, 3, 4, 5],\n",
       "                         'kernel': ['linear', 'poly', 'rbf']},\n",
       "             return_train_score=True, scoring='accuracy')"
      ]
     },
     "execution_count": 50,
     "metadata": {},
     "output_type": "execute_result"
    }
   ],
   "source": [
    "svc = SVC(random_state=42)\n",
    "params = {\n",
    "    'C':[0.01,0.1,1,10,25,50,100],\n",
    "    'kernel':['linear','poly','rbf'],\n",
    "    'degree':[2,3,4,5]\n",
    "}\n",
    "svc_grid = GridSearchCV(svc, param_grid=params, scoring='accuracy', n_jobs=-1, cv=5,return_train_score=True)\n",
    "svc_grid.fit(X_train,y_train)"
   ]
  },
  {
   "cell_type": "code",
   "execution_count": 51,
   "id": "1ccbef1a",
   "metadata": {},
   "outputs": [
    {
     "name": "stdout",
     "output_type": "stream",
     "text": [
      "0.8631349782293178\n",
      "{'C': 25, 'degree': 4, 'kernel': 'poly'}\n"
     ]
    }
   ],
   "source": [
    "print(svc_grid.best_score_)\n",
    "print(svc_grid.best_params_)"
   ]
  },
  {
   "cell_type": "code",
   "execution_count": 52,
   "id": "eb8dd65d",
   "metadata": {},
   "outputs": [
    {
     "data": {
      "image/png": "[encoded data removed]",
      "text/plain": [
       "<Figure size 432x288 with 1 Axes>"
      ]
     },
     "metadata": {
      "needs_background": "light"
     },
     "output_type": "display_data"
    }
   ],
   "source": [
    "plot_opt_evolution([('C',25),('degree',4)],'kernel',svc_grid.cv_results_)"
   ]
  },
  {
   "cell_type": "code",
   "execution_count": 53,
   "id": "497e6585",
   "metadata": {},
   "outputs": [
    {
     "data": {
      "image/png": "[encoded data removed]",
      "text/plain": [
       "<Figure size 432x288 with 1 Axes>"
      ]
     },
     "metadata": {
      "needs_background": "light"
     },
     "output_type": "display_data"
    }
   ],
   "source": [
    "plot_opt_evolution([('kernel','poly'),('C',25)],'degree',svc_grid.cv_results_)"
   ]
  },
  {
   "cell_type": "code",
   "execution_count": 55,
   "id": "d6a13855",
   "metadata": {},
   "outputs": [
    {
     "data": {
      "image/png": "[encoded data removed]",
      "text/plain": [
       "<Figure size 432x288 with 1 Axes>"
      ]
     },
     "metadata": {
      "needs_background": "light"
     },
     "output_type": "display_data"
    }
   ],
   "source": [
    "plot_opt_evolution([('degree',4),('kernel','poly')],'C',svc_grid.cv_results_)"
   ]
  },
  {
   "cell_type": "markdown",
   "id": "d73ec33c",
   "metadata": {},
   "source": [
    "We see that the polynomial kernel autperforms both the linear and the rbf kernel. From the polynomial kernels the one with four degrees of freedom performs best. Furthermore we see, that a regularization parameter of 25 delivers the best results. It determines the balance between correct classification and variance of the decision boundary. In combination the following parameters perform the best.\n",
    "\n",
    "- C: 25\n",
    "- Kernel: Polynomial\n",
    "- Degree: 4"
   ]
  },
  {
   "cell_type": "markdown",
   "id": "aeae7ceb",
   "metadata": {},
   "source": [
    "### K-nearest Neighbor Classifier (KNN)"
   ]
  },
  {
   "cell_type": "markdown",
   "id": "e2399a1f",
   "metadata": {},
   "source": [
    "Now we will try to use a simple KNN classifier, which labels the unknown data according to the known labels of the nearest k samples. This approach runs into problems for large amounts of data, as the algorithm has to use all the data at once in the memory. This is not a problem in our case as we have very little data. However, we have to take this in mind, as it would limit us while trying to improve our model performance with significantly more training data."
   ]
  },
  {
   "cell_type": "code",
   "execution_count": 56,
   "id": "97622dce",
   "metadata": {},
   "outputs": [
    {
     "data": {
      "text/plain": [
       "GridSearchCV(cv=5, estimator=KNeighborsClassifier(n_jobs=-1), n_jobs=-1,\n",
       "             param_grid={'n_neighbors': [1, 2, 3, 4, 5, 6, 7, 8, 9, 10]},\n",
       "             return_train_score=True, scoring='accuracy')"
      ]
     },
     "execution_count": 56,
     "metadata": {},
     "output_type": "execute_result"
    }
   ],
   "source": [
    "knn = KNN(n_jobs=-1)\n",
    "params = {\n",
    "    'n_neighbors':[1,2,3,4,5,6,7,8,9,10],\n",
    "}\n",
    "knn_grid = GridSearchCV(knn, param_grid=params, scoring='accuracy', n_jobs=-1, cv=5,return_train_score=True)\n",
    "knn_grid.fit(X_train,y_train)"
   ]
  },
  {
   "cell_type": "code",
   "execution_count": 57,
   "id": "e75153ef",
   "metadata": {},
   "outputs": [
    {
     "name": "stdout",
     "output_type": "stream",
     "text": [
      "0.8518142235123367\n",
      "{'n_neighbors': 3}\n"
     ]
    }
   ],
   "source": [
    "print(knn_grid.best_score_)\n",
    "print(knn_grid.best_params_)"
   ]
  },
  {
   "cell_type": "code",
   "execution_count": 58,
   "id": "7765ae1a",
   "metadata": {},
   "outputs": [
    {
     "data": {
      "image/png": "[encoded data removed]",
      "text/plain": [
       "<Figure size 432x288 with 1 Axes>"
      ]
     },
     "metadata": {
      "needs_background": "light"
     },
     "output_type": "display_data"
    }
   ],
   "source": [
    "plot_opt_evolution(False,'n_neighbors',knn_grid.cv_results_)"
   ]
  },
  {
   "cell_type": "markdown",
   "id": "15027c1b",
   "metadata": {},
   "source": [
    "The KNN classifier only considering three neighbors delivers the best result. The result for both training and test sets of the cross validation procedure decreases from then on with increasing number of neighbors."
   ]
  },
  {
   "cell_type": "markdown",
   "id": "77c26427",
   "metadata": {},
   "source": [
    "Finally we will test a multiple linear regression model (MLR), using the most important features from the evaluation of the random forest classifier as an input. The output of the MLR-model is transformed by a logit link function to accomodate the binary nature of the output. In comparion to the above mentioned ML-algorithms the MLR model has the advantage, that the results and the impacts of the single input parameters are easily explainable and not produced by kind of a black box algorithm."
   ]
  },
  {
   "cell_type": "markdown",
   "id": "860f75bf",
   "metadata": {},
   "source": [
    "### MLR"
   ]
  },
  {
   "cell_type": "code",
   "execution_count": 59,
   "id": "ec2f9b97",
   "metadata": {},
   "outputs": [],
   "source": [
    "lr = LogisticRegression(random_state=42,n_jobs=-1)\n",
    "lr.fit(X_train.iloc[:,8:10],y_train)\n",
    "lr_grid = cross_validate(knn, X_train.iloc[:,8:10], y_train, scoring='accuracy', n_jobs=-1, cv=5,return_train_score=True)"
   ]
  },
  {
   "cell_type": "code",
   "execution_count": 60,
   "id": "c3600f32",
   "metadata": {},
   "outputs": [
    {
     "data": {
      "text/plain": [
       "0.6959361393323658"
      ]
     },
     "execution_count": 60,
     "metadata": {},
     "output_type": "execute_result"
    }
   ],
   "source": [
    "lr_grid['test_score'].mean()"
   ]
  },
  {
   "cell_type": "markdown",
   "id": "a0a532b9",
   "metadata": {},
   "source": [
    "When compared to the more complex models, the very basic logistic regression model with only two input features performs poorly. Increasing the amount of input features would surely improve the performance, however at the cost of explainability and simplicity, which were the only reasons to initialy test this simple model."
   ]
  },
  {
   "cell_type": "markdown",
   "id": "44d19b35",
   "metadata": {},
   "source": [
    "## Results, Discussion and Conclusion"
   ]
  },
  {
   "cell_type": "markdown",
   "id": "9a75d151",
   "metadata": {},
   "source": [
    "In this section we will test the best models from each type according to the cross validaton procedures with our test-data to reach a final verdict about the best overall model and its performance. We will test each model, as non, besides the LR-model, was clearly inferior the the others during the cross-validation procedure."
   ]
  },
  {
   "cell_type": "code",
   "execution_count": 62,
   "id": "91c4443e",
   "metadata": {},
   "outputs": [
    {
     "name": "stdout",
     "output_type": "stream",
     "text": [
      "RFC:  0.8939393939393939\n",
      "SVC:  0.8484848484848485\n",
      "LR:  0.5909090909090909\n",
      "KNN:  0.8939393939393939\n"
     ]
    }
   ],
   "source": [
    "pred = rfc_grid.best_estimator_.predict(X_test)\n",
    "print('RFC: ',accuracy_score(y_test,pred))\n",
    "\n",
    "pred = svc_grid.best_estimator_.predict(X_test)\n",
    "print('SVC: ',accuracy_score(y_test,pred))\n",
    "\n",
    "pred = lr.predict(X_test.iloc[:,8:10])\n",
    "print('LR: ',accuracy_score(y_test,pred))\n",
    "\n",
    "pred = knn_grid.best_estimator_.predict(X_test)\n",
    "print('KNN: ',accuracy_score(y_test,pred))"
   ]
  },
  {
   "cell_type": "markdown",
   "id": "465ba27e",
   "metadata": {},
   "source": [
    "The Random Forest and the KNN Classifier perform equally with a accuracy score of around 90%. The Logistic Regression approach is only about as accurate as a random guess and the support vector classifier performs a little bit less good than the best models with an accuracy of 85%. So the generalization capabilities of the KNN classifier and the Random Forest seem to the best for all tested models. We will select the KNN classifier to be our final model, because it is a simpler model, and further check the confusion matrix on the test data to get a sense of the types of wrong predictions."
   ]
  },
  {
   "cell_type": "code",
   "execution_count": 63,
   "id": "719a461c",
   "metadata": {},
   "outputs": [
    {
     "data": {
      "text/plain": [
       "array([[31,  2],\n",
       "       [ 5, 28]])"
      ]
     },
     "execution_count": 63,
     "metadata": {},
     "output_type": "execute_result"
    }
   ],
   "source": [
    "confusion_matrix(y_test,pred,labels=[0,1])"
   ]
  },
  {
   "cell_type": "markdown",
   "id": "d540cc83",
   "metadata": {},
   "source": [
    "We see that we only got two false negatives in 66 total instances, which means that only two speakers were wrongly classified as being not from the US. However, 5 speakers were classified as being from the US, where in fact they were not. So our model is nearly perfect when we want to make sure that no one will be called a non-US speaker when he or she in fact is.\n",
    "\n",
    "Finally we can say, that a very simple model (KNN with one three neighbors) delivered quite good results on the dataset at hand. This shows that we should always carefully weigh the pros and cons for specific approaches and test different solutions for prediction tasks. Lets's at last test the input data for the one instance created by our own MFCC creation process from the first section and give it a try with the KNN-model."
   ]
  },
  {
   "cell_type": "code",
   "execution_count": 64,
   "id": "512dcfec",
   "metadata": {
    "scrolled": true
   },
   "outputs": [
    {
     "data": {
      "text/plain": [
       "array([0])"
      ]
     },
     "execution_count": 64,
     "metadata": {},
     "output_type": "execute_result"
    }
   ],
   "source": [
    "knn_grid.best_estimator_.predict(m_f_cep_coeff_mean.reshape(1,-1))"
   ]
  },
  {
   "cell_type": "markdown",
   "id": "4966b3d5",
   "metadata": {},
   "source": [
    "As we only have a limited amount of original .wav files (10) we are not able to surely say if our own MFCC process delivers valid input for the KNN-classifier, however in this specific instance the answer of the classifier was correct. The voice recording is from a non-US speaker. This result is of no scientifc value, but it was fun and interesting to perform the MFCC creation process by myself, understanding the details and give it a try on the final model."
   ]
  },
  {
   "cell_type": "markdown",
   "id": "852fefbf",
   "metadata": {},
   "source": [
    "For future work a bigger dataset, as well as .wav files for each instance, would be extremely helpful, as this would enbale us to fully use our very-own MFCC creation process and would make the differences between the single models, tested, more finely nuanced. Furthermore, if we would have more data in the future we might switch our choosen model to the equally good Random Forest Classifier, as our KNN approach would surely run into memory constraints at a specific point."
   ]
  },
  {
   "cell_type": "markdown",
   "id": "7af98d31",
   "metadata": {},
   "source": [
    "## References"
   ]
  },
  {
   "cell_type": "markdown",
   "id": "8a7c4dd3",
   "metadata": {},
   "source": [
    "Ma et al. 2014: Ma, Z.C. and Fokoué, E. (2014) A Comparison of Classifiers in Performing Speaker Accent Recognition Using MFCCs. Open Journal of Statistics, 4, 258-266. http://dx.doi.org/10.4236/ojs.2014.44025\n",
    "\n",
    "Fokoué 2020: UCI Machine Learning Repository. Irvine, CA: University of California, School of Information and Computer Science\n",
    "\n",
    "Jameslyons 2013: http://practicalcryptography.com/miscellaneous/machine-learning/guide-mel-frequency-cepstral-coefficients-mfccs/\n",
    "\n",
    "Kuldip et al. 2010: Kuldip K. Paliwal, James G. Lyons and Kamil K. Wojcicki, Preference for 20-40 ms window duration in speech analysis, IEEE\n",
    "\n",
    "sklearn Documentation\n"
   ]
  },
  {
   "cell_type": "markdown",
   "id": "ec16ccbb",
   "metadata": {},
   "source": [
    "## Documentation of Packages"
   ]
  },
  {
   "cell_type": "code",
   "execution_count": 78,
   "id": "4c2865f9",
   "metadata": {},
   "outputs": [
    {
     "name": "stdout",
     "output_type": "stream",
     "text": [
      "# packages in environment at /opt/anaconda3:\r\n",
      "#\r\n",
      "# Name                    Version                   Build  Channel\r\n",
      "_ipyw_jlab_nb_ext_conf    0.1.0                    py38_0  \r\n",
      "alabaster                 0.7.12             pyhd3eb1b0_0  \r\n",
      "altair                    4.2.2              pyhd8ed1ab_0    conda-forge\r\n",
      "anaconda                  2021.05                  py38_0  \r\n",
      "anaconda-client           1.7.2                    py38_0  \r\n",
      "anaconda-navigator        2.3.2            py38hecd8cb5_0  \r\n",
      "anaconda-project          0.9.1              pyhd3eb1b0_1  \r\n",
      "anyio                     2.2.0            py38hecd8cb5_1  \r\n",
      "appdirs                   1.4.4                      py_0  \r\n",
      "applaunchservices         0.2.1                      py_0  \r\n",
      "appnope                   0.1.2           py38hecd8cb5_1001  \r\n",
      "appscript                 1.1.2            py38h9ed2024_0  \r\n",
      "argh                      0.26.2                   py38_0  \r\n",
      "argon2-cffi               20.1.0           py38h9ed2024_1  \r\n",
      "asn1crypto                1.4.0                      py_0  \r\n",
      "astroid                   2.5              py38hecd8cb5_1  \r\n",
      "astropy                   4.2.1            py38h9ed2024_1  \r\n",
      "async_generator           1.10               pyhd3eb1b0_0  \r\n",
      "atomicwrites              1.4.0                      py_0  \r\n",
      "attrs                     20.3.0             pyhd3eb1b0_0  \r\n",
      "autopep8                  1.5.6              pyhd3eb1b0_0  \r\n",
      "babel                     2.9.0              pyhd3eb1b0_0  \r\n",
      "backcall                  0.2.0              pyhd3eb1b0_0  \r\n",
      "backports                 1.0                pyhd3eb1b0_2  \r\n",
      "backports.functools_lru_cache 1.6.4              pyhd3eb1b0_0  \r\n",
      "backports.shutil_get_terminal_size 1.0.0              pyhd3eb1b0_3  \r\n",
      "backports.tempfile        1.0                pyhd3eb1b0_1  \r\n",
      "backports.weakref         1.0.post1                  py_1  \r\n",
      "beautifulsoup4            4.9.3              pyha847dfd_0  \r\n",
      "bitarray                  1.9.2            py38h9ed2024_1  \r\n",
      "bkcharts                  0.2                      py38_0  \r\n",
      "black                     19.10b0                    py_0  \r\n",
      "blas                      1.0                         mkl  \r\n",
      "bleach                    3.3.0              pyhd3eb1b0_0  \r\n",
      "blosc                     1.21.0               h2842e9f_0  \r\n",
      "bokeh                     2.3.2            py38hecd8cb5_0  \r\n",
      "boto                      2.49.0                   py38_0  \r\n",
      "bottleneck                1.3.2            py38hf1fa96c_1  \r\n",
      "brotlipy                  0.7.0           py38h9ed2024_1003  \r\n",
      "bzip2                     1.0.8                h1de35cc_0  \r\n",
      "c-ares                    1.17.1               h9ed2024_0  \r\n",
      "ca-certificates           2021.4.13            hecd8cb5_1  \r\n",
      "certifi                   2020.12.5        py38hecd8cb5_0  \r\n",
      "cffi                      1.14.5           py38h2125817_0  \r\n",
      "chardet                   4.0.0           py38hecd8cb5_1003  \r\n",
      "click                     7.1.2              pyhd3eb1b0_0  \r\n",
      "cloudpickle               1.6.0                      py_0  \r\n",
      "clyent                    1.2.2                    py38_1  \r\n",
      "colorama                  0.4.4              pyhd3eb1b0_0  \r\n",
      "conda                     22.9.0           py38hecd8cb5_0  \r\n",
      "conda-build               3.21.4           py38hecd8cb5_0  \r\n",
      "conda-content-trust       0.1.1              pyhd3eb1b0_0  \r\n",
      "conda-env                 2.6.0                         1  \r\n",
      "conda-package-handling    1.7.3            py38h9ed2024_1  \r\n",
      "conda-repo-cli            1.0.4              pyhd3eb1b0_0  \r\n",
      "conda-token               0.3.0              pyhd3eb1b0_0  \r\n",
      "conda-verify              3.4.2                      py_1  \r\n",
      "contextlib2               0.6.0.post1                py_0  \r\n",
      "cryptography              3.4.7            py38h2fd3fbb_0  \r\n",
      "curl                      7.71.1               hb0a8c7a_1  \r\n",
      "cycler                    0.10.0                   py38_0  \r\n",
      "cython                    0.29.23          py38h23ab428_0  \r\n",
      "cytoolz                   0.11.0           py38haf1e3a3_0  \r\n",
      "dask                      2021.4.0           pyhd3eb1b0_0  \r\n",
      "dask-core                 2021.4.0           pyhd3eb1b0_0  \r\n",
      "dbus                      1.13.18              h18a8e69_0  \r\n",
      "decorator                 5.0.6              pyhd3eb1b0_0  \r\n",
      "defusedxml                0.7.1              pyhd3eb1b0_0  \r\n",
      "diff-match-patch          20200713                   py_0  \r\n",
      "distributed               2021.4.0         py38hecd8cb5_0  \r\n",
      "docutils                  0.17             py38hecd8cb5_1  \r\n",
      "entrypoints               0.3                      py38_0  \r\n",
      "et_xmlfile                1.0.1                   py_1001  \r\n",
      "expat                     2.3.0                h23ab428_2  \r\n",
      "fastcache                 1.1.0            py38h1de35cc_0  \r\n",
      "filelock                  3.0.12             pyhd3eb1b0_1  \r\n",
      "flake8                    3.9.0              pyhd3eb1b0_0  \r\n",
      "flask                     1.1.2              pyhd3eb1b0_0  \r\n",
      "freetype                  2.10.4               ha233b18_0  \r\n",
      "fsspec                    0.9.0              pyhd3eb1b0_0  \r\n",
      "future                    0.18.2                   py38_1  \r\n",
      "get_terminal_size         1.0.0                h7520d66_0  \r\n",
      "gettext                   0.21.0               h7535e17_0  \r\n",
      "gevent                    21.1.2           py38h9ed2024_1  \r\n",
      "glib                      2.68.1               hdf23fa2_0  \r\n",
      "glob2                     0.7                pyhd3eb1b0_0  \r\n",
      "gmp                       6.2.1                h23ab428_2  \r\n",
      "gmpy2                     2.0.8            py38h6ef4df4_3  \r\n",
      "greenlet                  1.0.0            py38h23ab428_2  \r\n",
      "h5py                      2.10.0           py38h3134771_0  \r\n",
      "hdf5                      1.10.4               hfa1e0ec_0  \r\n",
      "heapdict                  1.0.1                      py_0  \r\n",
      "html5lib                  1.1                        py_0  \r\n",
      "icu                       58.2                 h0a44026_3  \r\n",
      "idna                      2.10               pyhd3eb1b0_0  \r\n",
      "imageio                   2.9.0              pyhd3eb1b0_0  \r\n",
      "imagesize                 1.2.0              pyhd3eb1b0_0  \r\n",
      "importlib-metadata        3.10.0           py38hecd8cb5_0  \r\n",
      "importlib_metadata        3.10.0               hd3eb1b0_0  \r\n",
      "iniconfig                 1.1.1              pyhd3eb1b0_0  \r\n",
      "intel-openmp              2021.2.0           hecd8cb5_564  \r\n",
      "intervaltree              3.1.0                      py_0  \r\n",
      "ipykernel                 5.3.4            py38h5ca1d4c_0  \r\n",
      "ipython                   7.22.0           py38h01d92e1_0  \r\n",
      "ipython_genutils          0.2.0              pyhd3eb1b0_1  \r\n",
      "ipywidgets                7.6.3              pyhd3eb1b0_1  \r\n",
      "isort                     5.8.0              pyhd3eb1b0_0  \r\n",
      "itsdangerous              1.1.0              pyhd3eb1b0_0  \r\n",
      "jbig                      2.1                  h4d881f8_0  \r\n",
      "jdcal                     1.4.1                      py_0  \r\n",
      "jedi                      0.17.2           py38hecd8cb5_1  \r\n",
      "jinja2                    2.11.3             pyhd3eb1b0_0  \r\n",
      "joblib                    1.0.1              pyhd3eb1b0_0  \r\n",
      "jpeg                      9b                   he5867d9_2  \r\n",
      "json5                     0.9.5                      py_0  \r\n",
      "jsonschema                3.2.0                      py_2  \r\n",
      "jupyter                   1.0.0                    py38_7  \r\n",
      "jupyter-packaging         0.7.12             pyhd3eb1b0_0  \r\n",
      "jupyter_client            6.1.12             pyhd3eb1b0_0  \r\n",
      "jupyter_console           6.4.0              pyhd3eb1b0_0  \r\n",
      "jupyter_core              4.7.1            py38hecd8cb5_0  \r\n",
      "jupyter_server            1.4.1            py38hecd8cb5_0  \r\n",
      "jupyterlab                3.0.14             pyhd3eb1b0_1  \r\n",
      "jupyterlab_pygments       0.1.2                      py_0  \r\n",
      "jupyterlab_server         2.4.0              pyhd3eb1b0_0  \r\n",
      "jupyterlab_widgets        1.0.0              pyhd3eb1b0_1  \r\n",
      "keyring                   22.3.0           py38hecd8cb5_0  \r\n",
      "kiwisolver                1.3.1            py38h23ab428_0  \r\n",
      "krb5                      1.18.2               h75d18d8_0  \r\n",
      "lazy-object-proxy         1.6.0            py38h9ed2024_0  \r\n",
      "lcms2                     2.12                 hf1fd2bf_0  \r\n",
      "libarchive                3.4.2                haa3ed63_0  \r\n",
      "libcurl                   7.71.1               h8a08a2b_1  \r\n",
      "libcxx                    10.0.0                        1  \r\n",
      "libedit                   3.1.20210216         h9ed2024_1  \r\n",
      "libev                     4.33                 haf1e3a3_0  \r\n",
      "libffi                    3.3                  hb1e8313_2  \r\n",
      "libgfortran               3.0.1                h93005f0_2  \r\n",
      "libiconv                  1.16                 h1de35cc_0  \r\n",
      "liblief                   0.10.1               h0a44026_0  \r\n",
      "libllvm10                 10.0.1               h76017ad_5  \r\n",
      "libpng                    1.6.37               ha441bb4_0  \r\n",
      "libsodium                 1.0.18               h1de35cc_0  \r\n",
      "libspatialindex           1.9.3                h23ab428_0  \r\n",
      "libssh2                   1.9.0                ha12b0ac_1  \r\n",
      "libtiff                   4.2.0                h87d7836_0  \r\n",
      "libuv                     1.40.0               haf1e3a3_0  \r\n",
      "libwebp-base              1.2.0                h9ed2024_0  \r\n",
      "libxml2                   2.9.10               h7cdb67c_3  \r\n",
      "libxslt                   1.1.34               h83b36ba_0  \r\n",
      "llvm-openmp               10.0.0               h28b9765_0  \r\n",
      "llvmlite                  0.36.0           py38he4411ff_4  \r\n",
      "locket                    0.2.1            py38hecd8cb5_1  \r\n",
      "lxml                      4.6.3            py38h26b266a_0  \r\n",
      "lz4-c                     1.9.3                h23ab428_0  \r\n",
      "lzo                       2.10                 haf1e3a3_2  \r\n",
      "markupsafe                1.1.1            py38h1de35cc_1  \r\n",
      "matplotlib                3.3.4            py38hecd8cb5_0  \r\n",
      "matplotlib-base           3.3.4            py38h8b3ea08_0  \r\n",
      "mccabe                    0.6.1                    py38_1  \r\n",
      "mistune                   0.8.4           py38h1de35cc_1001  \r\n",
      "mkl                       2021.2.0           hecd8cb5_269  \r\n",
      "mkl-service               2.3.0            py38h9ed2024_1  \r\n",
      "mkl_fft                   1.3.0            py38h4a7008c_2  \r\n",
      "mkl_random                1.2.1            py38hb2f4e1b_2  \r\n",
      "mock                      4.0.3              pyhd3eb1b0_0  \r\n",
      "more-itertools            8.7.0              pyhd3eb1b0_0  \r\n",
      "mpc                       1.1.0                h6ef4df4_1  \r\n",
      "mpfr                      4.0.2                h9066e36_1  \r\n",
      "mpmath                    1.2.1            py38hecd8cb5_0  \r\n",
      "msgpack-python            1.0.2            py38hf7b0b51_1  \r\n",
      "multipledispatch          0.6.0                    py38_0  \r\n",
      "mypy_extensions           0.4.3                    py38_0  \r\n",
      "navigator-updater         0.2.1                    py38_0  \r\n",
      "nbclassic                 0.2.6              pyhd3eb1b0_0  \r\n",
      "nbclient                  0.5.3              pyhd3eb1b0_0  \r\n",
      "nbconvert                 6.0.7                    py38_0  \r\n",
      "nbformat                  5.1.3              pyhd3eb1b0_0  \r\n",
      "ncurses                   6.2                  h0a44026_1  \r\n",
      "nest-asyncio              1.5.1              pyhd3eb1b0_0  \r\n",
      "networkx                  2.5                        py_0  \r\n",
      "nltk                      3.6.1              pyhd3eb1b0_0  \r\n",
      "nose                      1.3.7           pyhd3eb1b0_1006  \r\n",
      "notebook                  6.3.0            py38hecd8cb5_0  \r\n",
      "numba                     0.53.1           py38hb2f4e1b_0  \r\n",
      "numexpr                   2.7.3            py38h5873af2_1  \r\n",
      "numpy                     1.20.1           py38hd6e1bb9_0  \r\n",
      "numpy-base                1.20.1           py38h585ceec_0  \r\n",
      "numpydoc                  1.1.0              pyhd3eb1b0_1  \r\n",
      "olefile                   0.46                       py_0  \r\n",
      "openpyxl                  3.0.7              pyhd3eb1b0_0  \r\n",
      "openssl                   1.1.1k               h9ed2024_0  \r\n",
      "packaging                 20.9               pyhd3eb1b0_0  \r\n",
      "pandas                    1.2.4            py38h23ab428_0  \r\n",
      "pandoc                    2.12                 hecd8cb5_0  \r\n",
      "pandocfilters             1.4.3            py38hecd8cb5_1  \r\n",
      "parso                     0.7.0                      py_0  \r\n",
      "partd                     1.2.0              pyhd3eb1b0_0  \r\n",
      "path                      15.1.2           py38hecd8cb5_0  \r\n",
      "path.py                   12.5.0                        0  \r\n",
      "pathlib2                  2.3.5            py38hecd8cb5_2  \r\n",
      "pathspec                  0.7.0                      py_0  \r\n",
      "patsy                     0.5.1                    py38_0  \r\n",
      "pcre                      8.44                 hb1e8313_0  \r\n",
      "pep8                      1.7.1                    py38_0  \r\n",
      "pexpect                   4.8.0              pyhd3eb1b0_3  \r\n",
      "pickleshare               0.7.5           pyhd3eb1b0_1003  \r\n",
      "pillow                    8.2.0            py38h5270095_0  \r\n",
      "pip                       21.0.1           py38hecd8cb5_0  \r\n",
      "pkginfo                   1.7.0            py38hecd8cb5_0  \r\n",
      "pluggy                    0.13.1           py38hecd8cb5_0  \r\n",
      "ply                       3.11                     py38_0  \r\n",
      "prometheus_client         0.10.1             pyhd3eb1b0_0  \r\n",
      "prompt-toolkit            3.0.17             pyh06a4308_0  \r\n",
      "prompt_toolkit            3.0.17               hd3eb1b0_0  \r\n",
      "psutil                    5.8.0            py38h9ed2024_1  \r\n",
      "ptyprocess                0.7.0              pyhd3eb1b0_2  \r\n",
      "py                        1.10.0             pyhd3eb1b0_0  \r\n",
      "py-lief                   0.10.1           py38haf313ee_0  \r\n",
      "pycodestyle               2.6.0              pyhd3eb1b0_0  \r\n",
      "pycosat                   0.6.3            py38h1de35cc_1  \r\n",
      "pycparser                 2.20                       py_2  \r\n",
      "pycurl                    7.43.0.6         py38hddc9c9b_0  \r\n",
      "pydocstyle                6.0.0              pyhd3eb1b0_0  \r\n",
      "pyerfa                    1.7.3            py38h9ed2024_0  \r\n",
      "pyflakes                  2.2.0              pyhd3eb1b0_0  \r\n",
      "pygments                  2.8.1              pyhd3eb1b0_0  \r\n",
      "pyjwt                     2.1.0            py38hecd8cb5_0  \r\n",
      "pylint                    2.7.4            py38hecd8cb5_1  \r\n",
      "pyls-black                0.4.6                hd3eb1b0_0  \r\n",
      "pyls-spyder               0.3.2              pyhd3eb1b0_0  \r\n",
      "pyodbc                    4.0.30           py38h0a44026_0  \r\n",
      "pyopenssl                 20.0.1             pyhd3eb1b0_1  \r\n",
      "pyparsing                 2.4.7              pyhd3eb1b0_0  \r\n",
      "pyqt                      5.9.2            py38h655552a_2  \r\n",
      "pyrsistent                0.17.3           py38haf1e3a3_0  \r\n",
      "pysocks                   1.7.1                    py38_1  \r\n",
      "pytables                  3.6.1            py38h4727e94_0  \r\n",
      "pytest                    6.2.3            py38hecd8cb5_2  \r\n",
      "python                    3.8.8                h88f2d9e_5  \r\n",
      "python-dateutil           2.8.1              pyhd3eb1b0_0  \r\n",
      "python-jsonrpc-server     0.4.0                      py_0  \r\n",
      "python-language-server    0.36.2             pyhd3eb1b0_0  \r\n",
      "python-libarchive-c       2.9                pyhd3eb1b0_1  \r\n",
      "python.app                3                py38h9ed2024_0  \r\n",
      "pytz                      2021.1             pyhd3eb1b0_0  \r\n",
      "pywavelets                1.1.1            py38haf1e3a3_2  \r\n",
      "pyyaml                    5.4.1            py38h9ed2024_1  \r\n",
      "pyzmq                     20.0.0           py38h23ab428_1  \r\n",
      "qdarkstyle                2.8.1                      py_0  \r\n",
      "qt                        5.9.7                h468cd18_1  \r\n",
      "qtawesome                 1.0.2              pyhd3eb1b0_0  \r\n",
      "qtconsole                 5.0.3              pyhd3eb1b0_0  \r\n",
      "qtpy                      1.9.0                      py_0  \r\n",
      "readline                  8.1                  h9ed2024_0  \r\n",
      "regex                     2021.4.4         py38h9ed2024_0  \r\n",
      "requests                  2.25.1             pyhd3eb1b0_0  \r\n",
      "ripgrep                   12.1.1                        0  \r\n",
      "rope                      0.18.0                     py_0  \r\n",
      "rtree                     0.9.7            py38hecd8cb5_1  \r\n",
      "ruamel_yaml               0.15.100         py38h9ed2024_0  \r\n",
      "scikit-image              0.18.1           py38hb2f4e1b_0  \r\n",
      "scikit-learn              0.24.1           py38hb2f4e1b_0  \r\n",
      "scipy                     1.6.2            py38hd5f7400_1  \r\n",
      "seaborn                   0.11.1             pyhd3eb1b0_0  \r\n",
      "send2trash                1.5.0              pyhd3eb1b0_1  \r\n",
      "setuptools                52.0.0           py38hecd8cb5_0  \r\n",
      "simplegeneric             0.8.1                    py38_2  \r\n",
      "singledispatch            3.6.1           pyhd3eb1b0_1001  \r\n",
      "sip                       4.19.8           py38h0a44026_0  \r\n",
      "six                       1.15.0           py38hecd8cb5_0  \r\n",
      "sniffio                   1.2.0            py38hecd8cb5_1  \r\n",
      "snowballstemmer           2.1.0              pyhd3eb1b0_0  \r\n",
      "sortedcollections         2.1.0              pyhd3eb1b0_0  \r\n",
      "sortedcontainers          2.3.0              pyhd3eb1b0_0  \r\n",
      "soupsieve                 2.2.1              pyhd3eb1b0_0  \r\n",
      "sphinx                    4.0.1              pyhd3eb1b0_0  \r\n",
      "sphinxcontrib             1.0                      py38_1  \r\n",
      "sphinxcontrib-applehelp   1.0.2              pyhd3eb1b0_0  \r\n",
      "sphinxcontrib-devhelp     1.0.2              pyhd3eb1b0_0  \r\n",
      "sphinxcontrib-htmlhelp    1.0.3              pyhd3eb1b0_0  \r\n",
      "sphinxcontrib-jsmath      1.0.1              pyhd3eb1b0_0  \r\n",
      "sphinxcontrib-qthelp      1.0.3              pyhd3eb1b0_0  \r\n",
      "sphinxcontrib-serializinghtml 1.1.4              pyhd3eb1b0_0  \r\n",
      "sphinxcontrib-websupport  1.2.4                      py_0  \r\n",
      "spyder                    4.2.5            py38hecd8cb5_0  \r\n",
      "spyder-kernels            1.10.2           py38hecd8cb5_0  \r\n",
      "sqlalchemy                1.4.7            py38h9ed2024_0  \r\n",
      "sqlite                    3.35.4               hce871da_0  \r\n",
      "statsmodels               0.12.2           py38h9ed2024_0  \r\n",
      "sympy                     1.8              py38hecd8cb5_0  \r\n",
      "tbb                       2020.3               h879752b_0  \r\n",
      "tblib                     1.7.0                      py_0  \r\n",
      "terminado                 0.9.4            py38hecd8cb5_0  \r\n",
      "testpath                  0.4.4              pyhd3eb1b0_0  \r\n",
      "textdistance              4.2.1              pyhd3eb1b0_0  \r\n",
      "threadpoolctl             2.1.0              pyh5ca1d4c_0  \r\n",
      "three-merge               0.1.1              pyhd3eb1b0_0  \r\n",
      "tifffile                  2020.10.1        py38h0cf3a3e_2  \r\n",
      "tk                        8.6.10               hb0a8c7a_0  \r\n",
      "toml                      0.10.2             pyhd3eb1b0_0  \r\n",
      "toolz                     0.11.1             pyhd3eb1b0_0  \r\n",
      "tornado                   6.1              py38h9ed2024_0  \r\n",
      "tqdm                      4.59.0             pyhd3eb1b0_1  \r\n",
      "traitlets                 5.0.5              pyhd3eb1b0_0  \r\n",
      "typed-ast                 1.4.2            py38h9ed2024_1  \r\n",
      "typing_extensions         3.7.4.3            pyha847dfd_0  \r\n",
      "ujson                     4.0.2            py38h23ab428_0  \r\n",
      "unicodecsv                0.14.1                   py38_0  \r\n",
      "unixodbc                  2.3.9                haf1e3a3_0  \r\n",
      "urllib3                   1.26.4             pyhd3eb1b0_0  \r\n",
      "watchdog                  1.0.2            py38h9ed2024_1  \r\n",
      "wcwidth                   0.2.5                      py_0  \r\n",
      "webencodings              0.5.1                    py38_1  \r\n",
      "werkzeug                  1.0.1              pyhd3eb1b0_0  \r\n",
      "wheel                     0.36.2             pyhd3eb1b0_0  \r\n",
      "widgetsnbextension        3.5.1                    py38_0  \r\n",
      "wrapt                     1.12.1           py38haf1e3a3_1  \r\n",
      "wurlitzer                 2.1.0            py38hecd8cb5_0  \r\n",
      "xlrd                      2.0.1              pyhd3eb1b0_0  \r\n",
      "xlsxwriter                1.3.8              pyhd3eb1b0_0  \r\n",
      "xlwings                   0.23.0           py38hecd8cb5_0  \r\n",
      "xlwt                      1.3.0                    py38_0  \r\n",
      "xz                        5.2.5                h1de35cc_0  \r\n",
      "yaml                      0.2.5                haf1e3a3_0  \r\n",
      "yapf                      0.31.0             pyhd3eb1b0_0  \r\n",
      "zeromq                    4.3.4                h23ab428_0  \r\n",
      "zict                      2.0.0              pyhd3eb1b0_0  \r\n",
      "zipp                      3.4.1              pyhd3eb1b0_0  \r\n",
      "zlib                      1.2.11               h1de35cc_3  \r\n",
      "zope                      1.0                      py38_1  \r\n",
      "zope.event                4.5.0                    py38_0  \r\n",
      "zope.interface            5.3.0            py38h9ed2024_0  \r\n",
      "zstd                      1.4.5                h41d2c2f_0  \r\n"
     ]
    },
    {
     "name": "stdout",
     "output_type": "stream",
     "text": [
      "\n",
      "Note: you may need to restart the kernel to use updated packages.\n"
     ]
    }
   ],
   "source": [
    "conda list"
   ]
  }
 ],
 "metadata": {
  "kernelspec": {
   "display_name": "Python 3",
   "language": "python",
   "name": "python3"
  },
  "language_info": {
   "codemirror_mode": {
    "name": "ipython",
    "version": 3
   },
   "file_extension": ".py",
   "mimetype": "text/x-python",
   "name": "python",
   "nbconvert_exporter": "python",
   "pygments_lexer": "ipython3",
   "version": "3.8.8"
  }
 },
 "nbformat": 4,
 "nbformat_minor": 5
}
